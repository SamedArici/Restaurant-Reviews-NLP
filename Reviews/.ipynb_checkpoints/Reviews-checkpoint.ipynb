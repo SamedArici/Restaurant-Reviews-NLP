{
 "cells": [
  {
   "cell_type": "markdown",
   "id": "d55b8f32",
   "metadata": {},
   "source": [
    "## Importing Necessary Libraries and Dataset"
   ]
  },
  {
   "cell_type": "code",
   "execution_count": 1,
   "id": "5842bf9a",
   "metadata": {},
   "outputs": [],
   "source": [
    "import numpy as np\n",
    "import pandas as pd\n",
    "import matplotlib.pyplot as plt\n",
    "%matplotlib inline\n",
    "import seaborn as sns\n",
    "sns.set_style('whitegrid')"
   ]
  },
  {
   "cell_type": "code",
   "execution_count": 2,
   "id": "469ddcfb",
   "metadata": {},
   "outputs": [],
   "source": [
    "import re\n",
    "import nltk\n",
    "from nltk.stem.porter import PorterStemmer\n",
    "from nltk.corpus import stopwords"
   ]
  },
  {
   "cell_type": "code",
   "execution_count": 3,
   "id": "44883bfb",
   "metadata": {},
   "outputs": [
    {
     "data": {
      "text/html": [
       "<div>\n",
       "<style scoped>\n",
       "    .dataframe tbody tr th:only-of-type {\n",
       "        vertical-align: middle;\n",
       "    }\n",
       "\n",
       "    .dataframe tbody tr th {\n",
       "        vertical-align: top;\n",
       "    }\n",
       "\n",
       "    .dataframe thead th {\n",
       "        text-align: right;\n",
       "    }\n",
       "</style>\n",
       "<table border=\"1\" class=\"dataframe\">\n",
       "  <thead>\n",
       "    <tr style=\"text-align: right;\">\n",
       "      <th></th>\n",
       "      <th>Review</th>\n",
       "      <th>Liked</th>\n",
       "    </tr>\n",
       "  </thead>\n",
       "  <tbody>\n",
       "    <tr>\n",
       "      <th>0</th>\n",
       "      <td>Wow... Loved this place.</td>\n",
       "      <td>1</td>\n",
       "    </tr>\n",
       "    <tr>\n",
       "      <th>1</th>\n",
       "      <td>Crust is not good.</td>\n",
       "      <td>0</td>\n",
       "    </tr>\n",
       "    <tr>\n",
       "      <th>2</th>\n",
       "      <td>Not tasty and the texture was just nasty.</td>\n",
       "      <td>0</td>\n",
       "    </tr>\n",
       "    <tr>\n",
       "      <th>3</th>\n",
       "      <td>Stopped by during the late May bank holiday of...</td>\n",
       "      <td>1</td>\n",
       "    </tr>\n",
       "    <tr>\n",
       "      <th>4</th>\n",
       "      <td>The selection on the menu was great and so wer...</td>\n",
       "      <td>1</td>\n",
       "    </tr>\n",
       "  </tbody>\n",
       "</table>\n",
       "</div>"
      ],
      "text/plain": [
       "                                              Review  Liked\n",
       "0                           Wow... Loved this place.      1\n",
       "1                                 Crust is not good.      0\n",
       "2          Not tasty and the texture was just nasty.      0\n",
       "3  Stopped by during the late May bank holiday of...      1\n",
       "4  The selection on the menu was great and so wer...      1"
      ]
     },
     "execution_count": 3,
     "metadata": {},
     "output_type": "execute_result"
    }
   ],
   "source": [
    "df = pd.read_csv('Restaurant_Reviews.tsv',delimiter='\\t',quoting=3)\n",
    "df.head()"
   ]
  },
  {
   "cell_type": "markdown",
   "id": "91ae7dbf",
   "metadata": {},
   "source": [
    "## Visualizing "
   ]
  },
  {
   "cell_type": "code",
   "execution_count": 4,
   "id": "22faeb5b",
   "metadata": {},
   "outputs": [
    {
     "data": {
      "image/png": "[encoded data removed]",
      "text/plain": [
       "<Figure size 432x288 with 1 Axes>"
      ]
     },
     "metadata": {},
     "output_type": "display_data"
    }
   ],
   "source": [
    "df['Liked'].value_counts().plot.pie(labels = ['Liked','Not Liked'],autopct = \"%.1f%%\", startangle = 60,\n",
    "                                     radius = 1.2,textprops={'fontsize': 16},cmap = 'tab20_r')\n",
    "plt.show()"
   ]
  },
  {
   "cell_type": "code",
   "execution_count": 29,
   "id": "6206edea",
   "metadata": {},
   "outputs": [
    {
     "data": {
      "image/png": "[encoded data removed]",
      "text/plain": [
       "<Figure size 576x288 with 1 Axes>"
      ]
     },
     "metadata": {},
     "output_type": "display_data"
    }
   ],
   "source": [
    "df['Len'] = df['Review'].apply(len) # Adding 'Len' column to show the length of reviews\n",
    "\n",
    "plt.figure(figsize = (8,4))\n",
    "sns.histplot(x = 'Len',data = df,hue = 'Liked')\n",
    "plt.xlabel('Lenght of Reviews',size = 14)\n",
    "plt.ylabel('Count',size = 14)\n",
    "plt.xticks(size = 12)\n",
    "plt.yticks(size = 12)\n",
    "plt.show()\n",
    "\n",
    "df.drop('Len',axis = 1,inplace = True) # Removing the 'Len' column"
   ]
  },
  {
   "cell_type": "markdown",
   "id": "2efeed53",
   "metadata": {},
   "source": [
    "## Download Stopwords"
   ]
  },
  {
   "cell_type": "code",
   "execution_count": 6,
   "id": "5b3f12ff",
   "metadata": {
    "scrolled": true
   },
   "outputs": [
    {
     "name": "stderr",
     "output_type": "stream",
     "text": [
      "[nltk_data] Downloading package stopwords to\n",
      "[nltk_data]     C:\\Users\\samet\\AppData\\Roaming\\nltk_data...\n",
      "[nltk_data]   Package stopwords is already up-to-date!\n"
     ]
    },
    {
     "data": {
      "text/plain": [
       "True"
      ]
     },
     "execution_count": 6,
     "metadata": {},
     "output_type": "execute_result"
    }
   ],
   "source": [
    "nltk.download('stopwords')"
   ]
  },
  {
   "cell_type": "markdown",
   "id": "b5b92068",
   "metadata": {},
   "source": [
    "## Create Stopwords and PorterStemmer"
   ]
  },
  {
   "cell_type": "code",
   "execution_count": 7,
   "id": "2de8386a",
   "metadata": {},
   "outputs": [],
   "source": [
    "all_stopwords = stopwords.words('english')\n",
    "all_stopwords.remove('not')\n",
    "ps = PorterStemmer()"
   ]
  },
  {
   "cell_type": "markdown",
   "id": "ff55c275",
   "metadata": {},
   "source": [
    "## Cleaning the Reviews"
   ]
  },
  {
   "cell_type": "code",
   "execution_count": 8,
   "id": "5b8e804c",
   "metadata": {},
   "outputs": [],
   "source": [
    "corpus = []\n",
    "for i in range(0,len(df)):\n",
    "    # values that are not letters have been removed from review of i\n",
    "    review = re.sub('[^a-zA-Z]',' ',df['Review'][i])\n",
    "    \n",
    "    review = review.lower()\n",
    "    \n",
    "    # converting to list\n",
    "    review = review.split()\n",
    "    \n",
    "    # check each word in review of i, subtract the stopwords and get the root of the rest of the words\n",
    "    review = [ps.stem(word) for word in review if not word in set(all_stopwords)] \n",
    "    \n",
    "    # converting to string and append the corpus list\n",
    "    review = ' '.join(review)\n",
    "    corpus.append(review)"
   ]
  },
  {
   "cell_type": "markdown",
   "id": "89144870",
   "metadata": {},
   "source": [
    "## Creating the Bag of Words Model"
   ]
  },
  {
   "cell_type": "code",
   "execution_count": 9,
   "id": "f58fee94",
   "metadata": {},
   "outputs": [],
   "source": [
    "from sklearn.feature_extraction.text import CountVectorizer\n",
    "cv = CountVectorizer(max_features=1500)\n",
    "x = cv.fit_transform(corpus).toarray()\n",
    "y = df.iloc[:,-1].values"
   ]
  },
  {
   "cell_type": "markdown",
   "id": "c72c88d7",
   "metadata": {},
   "source": [
    "## Split the Data into the Train set and Test set"
   ]
  },
  {
   "cell_type": "code",
   "execution_count": 10,
   "id": "ab1a96eb",
   "metadata": {},
   "outputs": [],
   "source": [
    "from sklearn.model_selection import train_test_split\n",
    "x_train,x_test,y_train,y_test = train_test_split(x,y,test_size=0.2,random_state=0)"
   ]
  },
  {
   "cell_type": "markdown",
   "id": "a84da404",
   "metadata": {},
   "source": [
    "## Creating Machine Learning Model"
   ]
  },
  {
   "cell_type": "markdown",
   "id": "fbc2f18c",
   "metadata": {},
   "source": [
    "### Calculate Scores"
   ]
  },
  {
   "cell_type": "code",
   "execution_count": 11,
   "id": "3b97d42a",
   "metadata": {},
   "outputs": [],
   "source": [
    "def calculate_scores(y_pred,algorithmName):\n",
    "    global df_result,index\n",
    "    \n",
    "    from sklearn.metrics import confusion_matrix,accuracy_score,precision_score,recall_score\n",
    "    \n",
    "    tn, fp, fn, tp = confusion_matrix(y_test,y_pred).ravel()\n",
    "    acc = accuracy_score(y_test,y_pred).round(3)\n",
    "    precision = precision_score(y_test,y_pred).round(3)\n",
    "    recall = recall_score(y_test,y_pred).round(3)\n",
    "    \n",
    "    d = {'classifier':[algorithmName],'accuracy':[acc],'precision':[precision],'recall':[recall],'true positive':[tp],\n",
    "         'true negative':[tn],'false positive':[fp],'false negative':[fn]}\n",
    "    new_df = pd.DataFrame(data = d,index = [index])\n",
    "    df_result = pd.concat([df_result,new_df])\n",
    "    index += 1"
   ]
  },
  {
   "cell_type": "markdown",
   "id": "b27a1cdc",
   "metadata": {},
   "source": [
    "### Random Forest"
   ]
  },
  {
   "cell_type": "code",
   "execution_count": 12,
   "id": "73ecce74",
   "metadata": {},
   "outputs": [],
   "source": [
    "def random_forest():\n",
    "    from sklearn.ensemble import RandomForestClassifier\n",
    "    rfc = RandomForestClassifier(criterion='entropy',n_estimators = 100).fit(x_train,y_train)\n",
    "    y_pred = rfc.predict(x_test)\n",
    "    calculate_scores(y_pred,'Random Forest')"
   ]
  },
  {
   "cell_type": "markdown",
   "id": "a6db7632",
   "metadata": {},
   "source": [
    "### Decision Tree"
   ]
  },
  {
   "cell_type": "code",
   "execution_count": 13,
   "id": "351f025d",
   "metadata": {},
   "outputs": [],
   "source": [
    "def decision_tree():\n",
    "    from sklearn.tree import DecisionTreeClassifier\n",
    "    dtc = DecisionTreeClassifier(criterion='entropy').fit(x_train,y_train)\n",
    "    y_pred = dtc.predict(x_test)\n",
    "    calculate_scores(y_pred,'Decision Tree')"
   ]
  },
  {
   "cell_type": "markdown",
   "id": "d096fc34",
   "metadata": {},
   "source": [
    "### KNN"
   ]
  },
  {
   "cell_type": "code",
   "execution_count": 14,
   "id": "f6d3c3dc",
   "metadata": {},
   "outputs": [],
   "source": [
    "def knn():\n",
    "    from sklearn.neighbors import KNeighborsClassifier\n",
    "    knn = KNeighborsClassifier(n_neighbors=23).fit(x_train,y_train)\n",
    "    y_pred = knn.predict(x_test)\n",
    "    calculate_scores(y_pred,'KNN')"
   ]
  },
  {
   "cell_type": "markdown",
   "id": "d40a9e0a",
   "metadata": {},
   "source": [
    "### Naive Bayes"
   ]
  },
  {
   "cell_type": "code",
   "execution_count": 15,
   "id": "2620af47",
   "metadata": {},
   "outputs": [],
   "source": [
    "def naive_bayes():\n",
    "    from sklearn.naive_bayes import GaussianNB\n",
    "    classifier = GaussianNB().fit(x_train,y_train)\n",
    "    y_pred = classifier.predict(x_test)\n",
    "    calculate_scores(y_pred,'Naive Bayes')"
   ]
  },
  {
   "cell_type": "markdown",
   "id": "ecb2f506",
   "metadata": {},
   "source": [
    "### MLP"
   ]
  },
  {
   "cell_type": "code",
   "execution_count": 16,
   "id": "6fde7218",
   "metadata": {},
   "outputs": [],
   "source": [
    "def mlp():\n",
    "    from sklearn.neural_network import MLPClassifier\n",
    "    mlp = MLPClassifier().fit(x_train,y_train)\n",
    "    y_pred = mlp.predict(x_test)\n",
    "    calculate_scores(y_pred,'MLP')"
   ]
  },
  {
   "cell_type": "markdown",
   "id": "6bc1e771",
   "metadata": {},
   "source": [
    "### Logistic Regression"
   ]
  },
  {
   "cell_type": "code",
   "execution_count": 17,
   "id": "819aef36",
   "metadata": {},
   "outputs": [],
   "source": [
    "def logistic_reg():\n",
    "    from sklearn.linear_model import LogisticRegression\n",
    "    lr = LogisticRegression().fit(x_train,y_train)\n",
    "    y_pred = lr.predict(x_test)\n",
    "    calculate_scores(y_pred,'Logistic Regression')"
   ]
  },
  {
   "cell_type": "markdown",
   "id": "3bbc43f2",
   "metadata": {},
   "source": [
    "## Result"
   ]
  },
  {
   "cell_type": "code",
   "execution_count": 18,
   "id": "0d20eb86",
   "metadata": {},
   "outputs": [
    {
     "data": {
      "text/html": [
       "<div>\n",
       "<style scoped>\n",
       "    .dataframe tbody tr th:only-of-type {\n",
       "        vertical-align: middle;\n",
       "    }\n",
       "\n",
       "    .dataframe tbody tr th {\n",
       "        vertical-align: top;\n",
       "    }\n",
       "\n",
       "    .dataframe thead th {\n",
       "        text-align: right;\n",
       "    }\n",
       "</style>\n",
       "<table border=\"1\" class=\"dataframe\">\n",
       "  <thead>\n",
       "    <tr style=\"text-align: right;\">\n",
       "      <th></th>\n",
       "      <th>classifier</th>\n",
       "      <th>accuracy</th>\n",
       "      <th>precision</th>\n",
       "      <th>recall</th>\n",
       "      <th>true positive</th>\n",
       "      <th>true negative</th>\n",
       "      <th>false positive</th>\n",
       "      <th>false negative</th>\n",
       "    </tr>\n",
       "  </thead>\n",
       "  <tbody>\n",
       "    <tr>\n",
       "      <th>5</th>\n",
       "      <td>MLP</td>\n",
       "      <td>0.805</td>\n",
       "      <td>0.820</td>\n",
       "      <td>0.796</td>\n",
       "      <td>82</td>\n",
       "      <td>79</td>\n",
       "      <td>18</td>\n",
       "      <td>21</td>\n",
       "    </tr>\n",
       "    <tr>\n",
       "      <th>6</th>\n",
       "      <td>Logistic Regression</td>\n",
       "      <td>0.775</td>\n",
       "      <td>0.815</td>\n",
       "      <td>0.728</td>\n",
       "      <td>75</td>\n",
       "      <td>80</td>\n",
       "      <td>17</td>\n",
       "      <td>28</td>\n",
       "    </tr>\n",
       "    <tr>\n",
       "      <th>1</th>\n",
       "      <td>Random Forest</td>\n",
       "      <td>0.755</td>\n",
       "      <td>0.886</td>\n",
       "      <td>0.602</td>\n",
       "      <td>62</td>\n",
       "      <td>89</td>\n",
       "      <td>8</td>\n",
       "      <td>41</td>\n",
       "    </tr>\n",
       "    <tr>\n",
       "      <th>2</th>\n",
       "      <td>Decision Tree</td>\n",
       "      <td>0.745</td>\n",
       "      <td>0.789</td>\n",
       "      <td>0.689</td>\n",
       "      <td>71</td>\n",
       "      <td>78</td>\n",
       "      <td>19</td>\n",
       "      <td>32</td>\n",
       "    </tr>\n",
       "    <tr>\n",
       "      <th>4</th>\n",
       "      <td>Naive Bayes</td>\n",
       "      <td>0.730</td>\n",
       "      <td>0.684</td>\n",
       "      <td>0.883</td>\n",
       "      <td>91</td>\n",
       "      <td>55</td>\n",
       "      <td>42</td>\n",
       "      <td>12</td>\n",
       "    </tr>\n",
       "    <tr>\n",
       "      <th>3</th>\n",
       "      <td>KNN</td>\n",
       "      <td>0.645</td>\n",
       "      <td>0.695</td>\n",
       "      <td>0.553</td>\n",
       "      <td>57</td>\n",
       "      <td>72</td>\n",
       "      <td>25</td>\n",
       "      <td>46</td>\n",
       "    </tr>\n",
       "  </tbody>\n",
       "</table>\n",
       "</div>"
      ],
      "text/plain": [
       "            classifier  accuracy  precision  recall  true positive  \\\n",
       "5                  MLP     0.805      0.820   0.796             82   \n",
       "6  Logistic Regression     0.775      0.815   0.728             75   \n",
       "1        Random Forest     0.755      0.886   0.602             62   \n",
       "2        Decision Tree     0.745      0.789   0.689             71   \n",
       "4          Naive Bayes     0.730      0.684   0.883             91   \n",
       "3                  KNN     0.645      0.695   0.553             57   \n",
       "\n",
       "   true negative  false positive  false negative  \n",
       "5             79              18              21  \n",
       "6             80              17              28  \n",
       "1             89               8              41  \n",
       "2             78              19              32  \n",
       "4             55              42              12  \n",
       "3             72              25              46  "
      ]
     },
     "execution_count": 18,
     "metadata": {},
     "output_type": "execute_result"
    }
   ],
   "source": [
    "df_result = pd.DataFrame()\n",
    "index = 1\n",
    "functions = [random_forest,decision_tree,knn,naive_bayes,mlp,logistic_reg]\n",
    "for function in functions:\n",
    "    function()\n",
    "\n",
    "df_result.sort_values(by = 'accuracy',ascending=False)"
   ]
  }
 ],
 "metadata": {
  "kernelspec": {
   "display_name": "Python 3 (ipykernel)",
   "language": "python",
   "name": "python3"
  },
  "language_info": {
   "codemirror_mode": {
    "name": "ipython",
    "version": 3
   },
   "file_extension": ".py",
   "mimetype": "text/x-python",
   "name": "python",
   "nbconvert_exporter": "python",
   "pygments_lexer": "ipython3",
   "version": "3.9.12"
  }
 },
 "nbformat": 4,
 "nbformat_minor": 5
}
